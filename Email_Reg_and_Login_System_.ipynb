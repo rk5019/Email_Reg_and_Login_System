{
  "nbformat": 4,
  "nbformat_minor": 0,
  "metadata": {
    "colab": {
      "name": "Email_Reg_and_Login_System .ipynb",
      "provenance": [],
      "collapsed_sections": []
    },
    "kernelspec": {
      "name": "python3",
      "display_name": "Python 3"
    },
    "language_info": {
      "name": "python"
    }
  },
  "cells": [
    {
      "cell_type": "code",
      "execution_count": 1,
      "metadata": {
        "colab": {
          "base_uri": "https://localhost:8080/"
        },
        "id": "y_uqJbYvJJjI",
        "outputId": "8730330d-a062-4fb9-f473-4dfdbe505122"
      },
      "outputs": [
        {
          "output_type": "stream",
          "name": "stdout",
          "text": [
            "WELCOME TO EMAIL REGISTRATION/LOGIN SYSTEM\n",
            "Login or Register (login,reg): reg\n",
            "Enter your name and password to register\n",
            "Enter your name: us1\n",
            "Enter your password: 926\n",
            "WELCOME TO EMAIL REGISTRATION/LOGIN SYSTEM\n",
            "### USER DETAILS ###\n",
            "Username:  us1\n"
          ]
        }
      ],
      "source": [
        "granted = False\n",
        "\n",
        "def grant():\n",
        "    global granted\n",
        "    granted = True\n",
        "def login(name,password):\n",
        "    success = False\n",
        "    file = open(\"user_detail.txt\",\"r\")\n",
        "    for i in file:\n",
        "         a,b = i.split(\",\")\n",
        "         b = b.strip()\n",
        "         if(a == name and b == password):\n",
        "             success = True\n",
        "             break\n",
        "    file.close()\n",
        "    if(success):\n",
        "        print(\"Login Successful\")\n",
        "        grant()\n",
        "    else:\n",
        "        print(\"wrong user name or password\")\n",
        "\n",
        "def register(name,password):\n",
        "    file = open(\"user_detail.txt\",\"a\")\n",
        "    file.write(\"\\n\"+name+\",\"+password)\n",
        "    file.close()\n",
        "    grant()\n",
        "\n",
        "def access(option):\n",
        "    global name\n",
        "    if(option == \"login\"):\n",
        "        name = input(\"Enter your name: \")\n",
        "        password = input(\"Enter your password: \")\n",
        "        login(name,password)\n",
        "    else:\n",
        "        print(\"Enter your name and password to register\")\n",
        "        name = input(\"Enter your name: \")\n",
        "        password = input(\"Enter your password: \")\n",
        "        register(name,password)\n",
        "\n",
        "def begin():\n",
        "    global option\n",
        "    print(\"WELCOME TO EMAIL REGISTRATION/LOGIN SYSTEM\")\n",
        "    option = input(\"Login or Register (login,reg): \")\n",
        "    if(option != \"login\" and option != \"reg\"):\n",
        "        begin()\n",
        "\n",
        "begin()\n",
        "access(option)\n",
        "\n",
        "if(granted):\n",
        "    print(\"WELCOME TO EMAIL REGISTRATION/LOGIN SYSTEM\")\n",
        "    print(\"### USER DETAILS ###\")\n",
        "    print(\"Username: \",name)\n",
        "\n",
        "\n"
      ]
    }
  ]
}